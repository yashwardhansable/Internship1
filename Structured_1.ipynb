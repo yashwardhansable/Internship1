{
 "cells": [
  {
   "cell_type": "markdown",
   "id": "3bdd4ade",
   "metadata": {},
   "source": [
    "# IMPORTS"
   ]
  },
  {
   "cell_type": "code",
   "execution_count": 25,
   "id": "4fc75aae",
   "metadata": {},
   "outputs": [],
   "source": [
    "import pandas as pd"
   ]
  },
  {
   "cell_type": "code",
   "execution_count": 26,
   "id": "1f464f70",
   "metadata": {},
   "outputs": [],
   "source": [
    "import numpy as np\n",
    "import tensorflow as tf\n",
    "from tensorflow import keras\n",
    "import pandas as pd\n",
    "import seaborn as sns\n",
    "from pylab import rcParams\n",
    "import matplotlib.pyplot as plt\n",
    "from matplotlib import rc\n",
    "from sklearn.model_selection import train_test_split\n",
    "from pandas.plotting import register_matplotlib_converters\n",
    "\n",
    "%matplotlib inline"
   ]
  },
  {
   "cell_type": "code",
   "execution_count": 27,
   "id": "20b2b3dc",
   "metadata": {},
   "outputs": [],
   "source": [
    "from sklearn.preprocessing import RobustScaler"
   ]
  },
  {
   "cell_type": "code",
   "execution_count": 28,
   "id": "03973575",
   "metadata": {},
   "outputs": [],
   "source": [
    "from tensorflow.keras.models import Sequential\n",
    "from tensorflow.keras.layers import Dense\n",
    "from tensorflow.keras.layers import LSTM"
   ]
  },
  {
   "cell_type": "code",
   "execution_count": 29,
   "id": "969fe69d",
   "metadata": {},
   "outputs": [],
   "source": [
    "from sklearn.preprocessing import MinMaxScaler\n",
    "scaler=MinMaxScaler(feature_range=(0,1))"
   ]
  },
  {
   "cell_type": "markdown",
   "id": "b5f1e49e",
   "metadata": {},
   "source": [
    "# DATASET\n"
   ]
  },
  {
   "cell_type": "markdown",
   "id": "669ee736",
   "metadata": {},
   "source": [
    "#### Stock prices of Berkshair Hathway"
   ]
  },
  {
   "cell_type": "code",
   "execution_count": 30,
   "id": "1d039c4d",
   "metadata": {},
   "outputs": [],
   "source": [
    "df = pd.read_csv(\"C:\\\\Users\\\\sudha\\\\Dropbox\\\\PC\\\\Downloads\\\\BRK-B (2).csv\")"
   ]
  },
  {
   "cell_type": "code",
   "execution_count": 31,
   "id": "ae517146",
   "metadata": {},
   "outputs": [
    {
     "data": {
      "text/html": [
       "<div>\n",
       "<style scoped>\n",
       "    .dataframe tbody tr th:only-of-type {\n",
       "        vertical-align: middle;\n",
       "    }\n",
       "\n",
       "    .dataframe tbody tr th {\n",
       "        vertical-align: top;\n",
       "    }\n",
       "\n",
       "    .dataframe thead th {\n",
       "        text-align: right;\n",
       "    }\n",
       "</style>\n",
       "<table border=\"1\" class=\"dataframe\">\n",
       "  <thead>\n",
       "    <tr style=\"text-align: right;\">\n",
       "      <th></th>\n",
       "      <th>Date</th>\n",
       "      <th>Open</th>\n",
       "      <th>High</th>\n",
       "      <th>Low</th>\n",
       "      <th>Close</th>\n",
       "      <th>Adj Close</th>\n",
       "      <th>Volume</th>\n",
       "    </tr>\n",
       "  </thead>\n",
       "  <tbody>\n",
       "    <tr>\n",
       "      <th>0</th>\n",
       "      <td>2000-01-03</td>\n",
       "      <td>36.500000</td>\n",
       "      <td>36.580002</td>\n",
       "      <td>34.820000</td>\n",
       "      <td>35.299999</td>\n",
       "      <td>35.299999</td>\n",
       "      <td>875000</td>\n",
       "    </tr>\n",
       "    <tr>\n",
       "      <th>1</th>\n",
       "      <td>2000-01-04</td>\n",
       "      <td>34.500000</td>\n",
       "      <td>34.660000</td>\n",
       "      <td>33.900002</td>\n",
       "      <td>34.080002</td>\n",
       "      <td>34.080002</td>\n",
       "      <td>1380000</td>\n",
       "    </tr>\n",
       "    <tr>\n",
       "      <th>2</th>\n",
       "      <td>2000-01-05</td>\n",
       "      <td>34.139999</td>\n",
       "      <td>35.459999</td>\n",
       "      <td>33.900002</td>\n",
       "      <td>34.639999</td>\n",
       "      <td>34.639999</td>\n",
       "      <td>995000</td>\n",
       "    </tr>\n",
       "    <tr>\n",
       "      <th>3</th>\n",
       "      <td>2000-01-06</td>\n",
       "      <td>34.900002</td>\n",
       "      <td>36.080002</td>\n",
       "      <td>34.540001</td>\n",
       "      <td>36.080002</td>\n",
       "      <td>36.080002</td>\n",
       "      <td>915000</td>\n",
       "    </tr>\n",
       "    <tr>\n",
       "      <th>4</th>\n",
       "      <td>2000-01-07</td>\n",
       "      <td>36.599998</td>\n",
       "      <td>36.959999</td>\n",
       "      <td>36.099998</td>\n",
       "      <td>36.400002</td>\n",
       "      <td>36.400002</td>\n",
       "      <td>1000000</td>\n",
       "    </tr>\n",
       "    <tr>\n",
       "      <th>...</th>\n",
       "      <td>...</td>\n",
       "      <td>...</td>\n",
       "      <td>...</td>\n",
       "      <td>...</td>\n",
       "      <td>...</td>\n",
       "      <td>...</td>\n",
       "      <td>...</td>\n",
       "    </tr>\n",
       "    <tr>\n",
       "      <th>4375</th>\n",
       "      <td>2017-05-24</td>\n",
       "      <td>165.899994</td>\n",
       "      <td>165.899994</td>\n",
       "      <td>164.550003</td>\n",
       "      <td>164.929993</td>\n",
       "      <td>164.929993</td>\n",
       "      <td>2597300</td>\n",
       "    </tr>\n",
       "    <tr>\n",
       "      <th>4376</th>\n",
       "      <td>2017-05-25</td>\n",
       "      <td>165.229996</td>\n",
       "      <td>165.500000</td>\n",
       "      <td>164.710007</td>\n",
       "      <td>165.300003</td>\n",
       "      <td>165.300003</td>\n",
       "      <td>2605300</td>\n",
       "    </tr>\n",
       "    <tr>\n",
       "      <th>4377</th>\n",
       "      <td>2017-05-26</td>\n",
       "      <td>165.250000</td>\n",
       "      <td>165.880005</td>\n",
       "      <td>165.020004</td>\n",
       "      <td>165.690002</td>\n",
       "      <td>165.690002</td>\n",
       "      <td>2156300</td>\n",
       "    </tr>\n",
       "    <tr>\n",
       "      <th>4378</th>\n",
       "      <td>2017-05-30</td>\n",
       "      <td>165.789993</td>\n",
       "      <td>165.869995</td>\n",
       "      <td>164.470001</td>\n",
       "      <td>165.110001</td>\n",
       "      <td>165.110001</td>\n",
       "      <td>3048300</td>\n",
       "    </tr>\n",
       "    <tr>\n",
       "      <th>4379</th>\n",
       "      <td>2017-05-31</td>\n",
       "      <td>165.270004</td>\n",
       "      <td>165.449997</td>\n",
       "      <td>164.100006</td>\n",
       "      <td>165.279999</td>\n",
       "      <td>165.279999</td>\n",
       "      <td>5674900</td>\n",
       "    </tr>\n",
       "  </tbody>\n",
       "</table>\n",
       "<p>4380 rows × 7 columns</p>\n",
       "</div>"
      ],
      "text/plain": [
       "            Date        Open        High         Low       Close   Adj Close  \\\n",
       "0     2000-01-03   36.500000   36.580002   34.820000   35.299999   35.299999   \n",
       "1     2000-01-04   34.500000   34.660000   33.900002   34.080002   34.080002   \n",
       "2     2000-01-05   34.139999   35.459999   33.900002   34.639999   34.639999   \n",
       "3     2000-01-06   34.900002   36.080002   34.540001   36.080002   36.080002   \n",
       "4     2000-01-07   36.599998   36.959999   36.099998   36.400002   36.400002   \n",
       "...          ...         ...         ...         ...         ...         ...   \n",
       "4375  2017-05-24  165.899994  165.899994  164.550003  164.929993  164.929993   \n",
       "4376  2017-05-25  165.229996  165.500000  164.710007  165.300003  165.300003   \n",
       "4377  2017-05-26  165.250000  165.880005  165.020004  165.690002  165.690002   \n",
       "4378  2017-05-30  165.789993  165.869995  164.470001  165.110001  165.110001   \n",
       "4379  2017-05-31  165.270004  165.449997  164.100006  165.279999  165.279999   \n",
       "\n",
       "       Volume  \n",
       "0      875000  \n",
       "1     1380000  \n",
       "2      995000  \n",
       "3      915000  \n",
       "4     1000000  \n",
       "...       ...  \n",
       "4375  2597300  \n",
       "4376  2605300  \n",
       "4377  2156300  \n",
       "4378  3048300  \n",
       "4379  5674900  \n",
       "\n",
       "[4380 rows x 7 columns]"
      ]
     },
     "execution_count": 31,
     "metadata": {},
     "output_type": "execute_result"
    }
   ],
   "source": [
    "df"
   ]
  },
  {
   "cell_type": "code",
   "execution_count": 32,
   "id": "126b524e",
   "metadata": {},
   "outputs": [],
   "source": [
    "df_cls=df.reset_index()['Close']"
   ]
  },
  {
   "cell_type": "code",
   "execution_count": 33,
   "id": "5b3f8713",
   "metadata": {},
   "outputs": [],
   "source": [
    "df_cls=scaler.fit_transform(np.array(df_cls).reshape(-1,1))"
   ]
  },
  {
   "cell_type": "code",
   "execution_count": 34,
   "id": "239e294f",
   "metadata": {},
   "outputs": [],
   "source": [
    "training_size=int(len(df_cls)*0.9)\n",
    "test_size=len(df_cls)-training_size\n",
    "train_data,test_data=df_cls[0:training_size,:],df_cls[training_size:len(df_cls),:1]"
   ]
  },
  {
   "cell_type": "markdown",
   "id": "e879c42e",
   "metadata": {},
   "source": [
    "#### We consider 100 previous time-steps to predict the next Close price, hence we create a function to do the same"
   ]
  },
  {
   "cell_type": "code",
   "execution_count": 35,
   "id": "903fe363",
   "metadata": {},
   "outputs": [],
   "source": [
    "def create_dataset1(dataset, time_step=1):\n",
    "    \"\"\"\n",
    "    Input: Dataset\n",
    "    output: Dataset with 100 timesteps\n",
    "    \"\"\"\n",
    "\tdataX, dataY = [], []\n",
    "\tfor i in range(len(dataset)-time_step-1):\n",
    "\t\ta = dataset[i:(i+time_step), 0]   ###i=0, 0,1,2,3-----99   100 \n",
    "\t\tdataX.append(a)\n",
    "\t\tdataY.append(dataset[i + time_step, 0])\n",
    "\treturn np.array(dataX), np.array(dataY)"
   ]
  },
  {
   "cell_type": "code",
   "execution_count": 36,
   "id": "295ceb59",
   "metadata": {},
   "outputs": [],
   "source": [
    "time_step = 100 #####HYPERPARAMETER\n",
    "X_train, y_train = create_dataset1(train_data, time_step)\n",
    "X_test, ytest = create_dataset1(test_data, time_step)"
   ]
  },
  {
   "cell_type": "code",
   "execution_count": 37,
   "id": "fa7b4b6f",
   "metadata": {},
   "outputs": [],
   "source": [
    "X_train =X_train.reshape(X_train.shape[0],X_train.shape[1] , 1)\n",
    "X_test = X_test.reshape(X_test.shape[0],X_test.shape[1] , 1)"
   ]
  },
  {
   "cell_type": "markdown",
   "id": "2c9691be",
   "metadata": {},
   "source": [
    "# OPTIMIZERS"
   ]
  },
  {
   "cell_type": "code",
   "execution_count": 38,
   "id": "3de3af07",
   "metadata": {},
   "outputs": [],
   "source": [
    "opt = keras.optimizers.Adam(learning_rate=0.0001)"
   ]
  },
  {
   "cell_type": "code",
   "execution_count": 39,
   "id": "620b1d90",
   "metadata": {},
   "outputs": [],
   "source": [
    "opt2 = tf.keras.optimizers.SGD(\n",
    "    learning_rate=0.01, momentum=0.0, nesterov=False, name=\"SGD\"\n",
    ")"
   ]
  },
  {
   "cell_type": "markdown",
   "id": "6256f803",
   "metadata": {},
   "source": [
    "# HYPERPARAMETER TUNING"
   ]
  },
  {
   "cell_type": "code",
   "execution_count": 40,
   "id": "1a6fc3ba",
   "metadata": {},
   "outputs": [],
   "source": [
    "import keras_tuner\n",
    "from tensorflow import keras"
   ]
  },
  {
   "cell_type": "code",
   "execution_count": 41,
   "id": "e7d2129e",
   "metadata": {},
   "outputs": [],
   "source": [
    "\"\"\"\n",
    "Implementing Early stopping\n",
    "\"\"\"\n",
    "es = tf.keras.callbacks.EarlyStopping(\n",
    "    monitor=\"val_loss\",\n",
    "    min_delta=0,\n",
    "    patience=10,\n",
    "    verbose=0,\n",
    "    mode=\"auto\",\n",
    "    baseline=None,\n",
    "    restore_best_weights=True,\n",
    ")"
   ]
  },
  {
   "cell_type": "code",
   "execution_count": 1,
   "id": "0114aff2",
   "metadata": {},
   "outputs": [],
   "source": [
    "\"\"\"\n",
    "LSTM Model\n",
    "\"\"\"\n",
    "def model1(hp):\n",
    "    model=Sequential()\n",
    "    model.add(LSTM( hp.Choice('units',[32,64,128,256]),return_sequences=True,input_shape=(100,1)))\n",
    "    model.add(LSTM( hp.Choice('units',[8,16,32,64,128]),return_sequences=True))\n",
    "    model.add(LSTM( hp.Choice('units',[4,8,16])))\n",
    "    model.add(Dense(1))\n",
    "    model.compile(loss='mean_squared_error',optimizer= opt)\n",
    "    return model"
   ]
  },
  {
   "cell_type": "code",
   "execution_count": 49,
   "id": "56e362a9",
   "metadata": {},
   "outputs": [],
   "source": [
    "tuner = keras_tuner.RandomSearch(\n",
    "    model1,\n",
    "    objective='val_loss',\n",
    "    max_trials=20,\n",
    "    executions_per_trial = 2,\n",
    "    directory = r\"C:\\Users\\sudha\\yashu\",\n",
    "    project_name = \"bestmodel\")"
   ]
  },
  {
   "cell_type": "code",
   "execution_count": 50,
   "id": "459d0643",
   "metadata": {},
   "outputs": [
    {
     "name": "stdout",
     "output_type": "stream",
     "text": [
      "Trial 4 Complete [00h 01m 32s]\n",
      "val_loss: 0.0005330942221917212\n",
      "\n",
      "Best val_loss So Far: 0.0002980876015499234\n",
      "Total elapsed time: 00h 09m 21s\n",
      "INFO:tensorflow:Oracle triggered exit\n"
     ]
    }
   ],
   "source": [
    "tuner.search(X_train, y_train, epochs=40, validation_data=(X_test, ytest),batch_size=64,verbose=1, callbacks= [es])\n",
    "best_model = tuner.get_best_models()[0]"
   ]
  },
  {
   "cell_type": "code",
   "execution_count": 46,
   "id": "d3684153",
   "metadata": {},
   "outputs": [
    {
     "name": "stdout",
     "output_type": "stream",
     "text": [
      "[PhysicalDevice(name='/physical_device:GPU:0', device_type='GPU')]\n"
     ]
    }
   ],
   "source": [
    "p=tf.config.list_physical_devices('GPU')\n",
    "print(p)"
   ]
  },
  {
   "cell_type": "code",
   "execution_count": 51,
   "id": "4bba6914",
   "metadata": {},
   "outputs": [
    {
     "name": "stdout",
     "output_type": "stream",
     "text": [
      "Model: \"sequential\"\n",
      "_________________________________________________________________\n",
      " Layer (type)                Output Shape              Param #   \n",
      "=================================================================\n",
      " lstm (LSTM)                 (None, 100, 256)          264192    \n",
      "                                                                 \n",
      " lstm_1 (LSTM)               (None, 100, 256)          525312    \n",
      "                                                                 \n",
      " lstm_2 (LSTM)               (None, 256)               525312    \n",
      "                                                                 \n",
      " dense (Dense)               (None, 1)                 257       \n",
      "                                                                 \n",
      "=================================================================\n",
      "Total params: 1,315,073\n",
      "Trainable params: 1,315,073\n",
      "Non-trainable params: 0\n",
      "_________________________________________________________________\n"
     ]
    }
   ],
   "source": [
    "\"\"\"\n",
    "Best Model built using Gridsearch (HyperOpt)\n",
    "\"\"\"\n",
    "best_model.build(input_shape = (100,1))\n",
    "best_model.summary()"
   ]
  },
  {
   "cell_type": "code",
   "execution_count": 52,
   "id": "60a54337",
   "metadata": {},
   "outputs": [
    {
     "name": "stdout",
     "output_type": "stream",
     "text": [
      "Epoch 1/50\n",
      "61/61 [==============================] - 6s 54ms/step - loss: 0.0092 - val_loss: 8.7690e-04\n",
      "Epoch 2/50\n",
      "61/61 [==============================] - 2s 39ms/step - loss: 2.3734e-04 - val_loss: 9.6096e-04\n",
      "Epoch 3/50\n",
      "61/61 [==============================] - 2s 39ms/step - loss: 2.2807e-04 - val_loss: 6.6765e-04\n",
      "Epoch 4/50\n",
      "61/61 [==============================] - 2s 39ms/step - loss: 2.2649e-04 - val_loss: 5.0621e-04\n",
      "Epoch 5/50\n",
      "61/61 [==============================] - 2s 39ms/step - loss: 2.2352e-04 - val_loss: 4.8337e-04\n",
      "Epoch 6/50\n",
      "61/61 [==============================] - 2s 40ms/step - loss: 2.2087e-04 - val_loss: 4.9533e-04\n",
      "Epoch 7/50\n",
      "61/61 [==============================] - 3s 43ms/step - loss: 2.1632e-04 - val_loss: 4.6144e-04\n",
      "Epoch 8/50\n",
      "61/61 [==============================] - 3s 45ms/step - loss: 2.1749e-04 - val_loss: 4.5506e-04\n",
      "Epoch 9/50\n",
      "61/61 [==============================] - 2s 41ms/step - loss: 2.1255e-04 - val_loss: 4.7728e-04\n",
      "Epoch 10/50\n",
      "61/61 [==============================] - 2s 40ms/step - loss: 2.0972e-04 - val_loss: 4.4584e-04\n",
      "Epoch 11/50\n",
      "61/61 [==============================] - 2s 40ms/step - loss: 2.1071e-04 - val_loss: 4.3929e-04\n",
      "Epoch 12/50\n",
      "61/61 [==============================] - 3s 43ms/step - loss: 2.0474e-04 - val_loss: 4.3205e-04\n",
      "Epoch 13/50\n",
      "61/61 [==============================] - 2s 41ms/step - loss: 2.1280e-04 - val_loss: 5.3686e-04\n",
      "Epoch 14/50\n",
      "61/61 [==============================] - 3s 42ms/step - loss: 2.0287e-04 - val_loss: 4.6506e-04\n",
      "Epoch 15/50\n",
      "61/61 [==============================] - 2s 40ms/step - loss: 2.0081e-04 - val_loss: 4.4941e-04\n",
      "Epoch 16/50\n",
      "61/61 [==============================] - 2s 40ms/step - loss: 2.0140e-04 - val_loss: 0.0017\n",
      "Epoch 17/50\n",
      "61/61 [==============================] - 3s 43ms/step - loss: 2.7108e-04 - val_loss: 9.4633e-04\n",
      "Epoch 18/50\n",
      "61/61 [==============================] - 3s 44ms/step - loss: 2.3142e-04 - val_loss: 4.5589e-04\n",
      "Epoch 19/50\n",
      "61/61 [==============================] - 3s 43ms/step - loss: 1.9752e-04 - val_loss: 3.9312e-04\n",
      "Epoch 20/50\n",
      "61/61 [==============================] - 3s 43ms/step - loss: 1.9620e-04 - val_loss: 4.2196e-04\n",
      "Epoch 21/50\n",
      "61/61 [==============================] - 3s 43ms/step - loss: 1.9467e-04 - val_loss: 6.8956e-04\n",
      "Epoch 22/50\n",
      "61/61 [==============================] - 3s 42ms/step - loss: 1.9958e-04 - val_loss: 3.9504e-04\n",
      "Epoch 23/50\n",
      "61/61 [==============================] - 3s 44ms/step - loss: 1.9012e-04 - val_loss: 5.2233e-04\n",
      "Epoch 24/50\n",
      "61/61 [==============================] - 3s 46ms/step - loss: 1.8545e-04 - val_loss: 3.8825e-04\n",
      "Epoch 25/50\n",
      "61/61 [==============================] - 3s 45ms/step - loss: 1.8772e-04 - val_loss: 4.8863e-04\n",
      "Epoch 26/50\n",
      "61/61 [==============================] - 3s 43ms/step - loss: 1.8241e-04 - val_loss: 6.8909e-04\n",
      "Epoch 27/50\n",
      "61/61 [==============================] - 3s 45ms/step - loss: 1.9602e-04 - val_loss: 3.7766e-04\n",
      "Epoch 28/50\n",
      "61/61 [==============================] - 3s 41ms/step - loss: 1.8323e-04 - val_loss: 4.6578e-04\n",
      "Epoch 29/50\n",
      "61/61 [==============================] - 3s 42ms/step - loss: 1.9382e-04 - val_loss: 4.0749e-04\n",
      "Epoch 30/50\n",
      "61/61 [==============================] - 3s 44ms/step - loss: 1.7865e-04 - val_loss: 3.4186e-04\n",
      "Epoch 31/50\n",
      "61/61 [==============================] - 2s 40ms/step - loss: 1.9080e-04 - val_loss: 3.4217e-04\n",
      "Epoch 32/50\n",
      "61/61 [==============================] - 2s 40ms/step - loss: 1.7571e-04 - val_loss: 3.5295e-04\n",
      "Epoch 33/50\n",
      "61/61 [==============================] - 3s 41ms/step - loss: 1.7838e-04 - val_loss: 3.6294e-04\n",
      "Epoch 34/50\n",
      "61/61 [==============================] - 2s 39ms/step - loss: 1.7612e-04 - val_loss: 3.7150e-04\n",
      "Epoch 35/50\n",
      "61/61 [==============================] - 2s 40ms/step - loss: 1.7499e-04 - val_loss: 3.3303e-04\n",
      "Epoch 36/50\n",
      "61/61 [==============================] - 2s 40ms/step - loss: 1.7541e-04 - val_loss: 3.8380e-04\n",
      "Epoch 37/50\n",
      "61/61 [==============================] - 3s 42ms/step - loss: 1.7670e-04 - val_loss: 0.0010\n",
      "Epoch 38/50\n",
      "61/61 [==============================] - 3s 41ms/step - loss: 2.1284e-04 - val_loss: 4.0065e-04\n",
      "Epoch 39/50\n",
      "61/61 [==============================] - 2s 40ms/step - loss: 1.7645e-04 - val_loss: 3.0396e-04\n",
      "Epoch 40/50\n",
      "61/61 [==============================] - 2s 40ms/step - loss: 1.7600e-04 - val_loss: 0.0018\n",
      "Epoch 41/50\n",
      "61/61 [==============================] - 3s 41ms/step - loss: 2.0678e-04 - val_loss: 3.4131e-04\n",
      "Epoch 42/50\n",
      "61/61 [==============================] - 3s 42ms/step - loss: 1.6095e-04 - val_loss: 2.9825e-04\n",
      "Epoch 43/50\n",
      "61/61 [==============================] - 3s 45ms/step - loss: 1.5982e-04 - val_loss: 2.8266e-04\n",
      "Epoch 44/50\n",
      "61/61 [==============================] - 3s 47ms/step - loss: 1.5923e-04 - val_loss: 0.0033\n",
      "Epoch 45/50\n",
      "61/61 [==============================] - 3s 46ms/step - loss: 2.7507e-04 - val_loss: 2.7718e-04\n",
      "Epoch 46/50\n",
      "61/61 [==============================] - 2s 39ms/step - loss: 1.6063e-04 - val_loss: 2.8105e-04\n",
      "Epoch 47/50\n",
      "61/61 [==============================] - 2s 40ms/step - loss: 1.7206e-04 - val_loss: 0.0131\n",
      "Epoch 48/50\n",
      "61/61 [==============================] - 3s 41ms/step - loss: 8.0759e-04 - val_loss: 4.7694e-04\n",
      "Epoch 49/50\n",
      "61/61 [==============================] - 3s 41ms/step - loss: 1.5895e-04 - val_loss: 5.9780e-04\n",
      "Epoch 50/50\n",
      "61/61 [==============================] - 2s 41ms/step - loss: 1.5846e-04 - val_loss: 3.0518e-04\n"
     ]
    },
    {
     "data": {
      "text/plain": [
       "<keras.callbacks.History at 0x18dfe8a96d0>"
      ]
     },
     "execution_count": 52,
     "metadata": {},
     "output_type": "execute_result"
    }
   ],
   "source": [
    "\"\"\"\n",
    "Training...\n",
    "\"\"\"\n",
    "best_hps = tuner.get_best_hyperparameters(5)\n",
    "model_best = model1(best_hps[0])\n",
    "model_best.fit(X_train,y_train,validation_data = (X_test, ytest), epochs=50, batch_size=64, verbose=1, callbacks=[es])"
   ]
  },
  {
   "cell_type": "code",
   "execution_count": 54,
   "id": "cbfd1697",
   "metadata": {},
   "outputs": [
    {
     "name": "stdout",
     "output_type": "stream",
     "text": [
      "121/121 [==============================] - 3s 17ms/step\n",
      "11/11 [==============================] - 0s 17ms/step\n"
     ]
    }
   ],
   "source": [
    "train_predict=model_best.predict(X_train)\n",
    "test_predict=model_best.predict(X_test)"
   ]
  },
  {
   "cell_type": "code",
   "execution_count": 55,
   "id": "8cdf7a32",
   "metadata": {},
   "outputs": [],
   "source": [
    "\"\"\"\n",
    "Inverse_transform to bring it back to the original domain.\n",
    "\"\"\"\n",
    "train_predict=scaler.inverse_transform(train_predict)\n",
    "test_predict=scaler.inverse_transform(test_predict)"
   ]
  },
  {
   "cell_type": "code",
   "execution_count": 56,
   "id": "4cf8cb4c",
   "metadata": {},
   "outputs": [
    {
     "data": {
      "text/plain": [
       "80.26388302299229"
      ]
     },
     "execution_count": 56,
     "metadata": {},
     "output_type": "execute_result"
    }
   ],
   "source": [
    "import math\n",
    "from sklearn.metrics import mean_squared_error\n",
    "math.sqrt(mean_squared_error(y_train,train_predict))"
   ]
  },
  {
   "cell_type": "code",
   "execution_count": 57,
   "id": "5613436c",
   "metadata": {},
   "outputs": [
    {
     "data": {
      "text/plain": [
       "152.2205796650225"
      ]
     },
     "execution_count": 57,
     "metadata": {},
     "output_type": "execute_result"
    }
   ],
   "source": [
    "math.sqrt(mean_squared_error(ytest,test_predict))"
   ]
  },
  {
   "cell_type": "markdown",
   "id": "2ad8ade9",
   "metadata": {},
   "source": [
    "# Predictions"
   ]
  },
  {
   "cell_type": "code",
   "execution_count": 58,
   "id": "06438737",
   "metadata": {},
   "outputs": [
    {
     "data": {
      "image/png": "[encoded data removed]",
      "text/plain": [
       "<Figure size 432x288 with 1 Axes>"
      ]
     },
     "metadata": {
      "needs_background": "light"
     },
     "output_type": "display_data"
    }
   ],
   "source": [
    "\"\"\"\n",
    "Blue Line: Orignal Stock Price Behaviour\n",
    "Yellow Line: Model Predictions during Training\n",
    "Green Line: Model Predictions during Testing (1 Day ahead)\n",
    "\"\"\"\n",
    "look_back=100\n",
    "trainPredictPlot = np.empty_like(df_cls)\n",
    "trainPredictPlot[:, :] = np.nan\n",
    "trainPredictPlot[look_back:len(train_predict)+look_back, :] = train_predict\n",
    "# shift test predictions for plotting\n",
    "testPredictPlot = np.empty_like(df_cls)\n",
    "testPredictPlot[:, :] = np.nan\n",
    "testPredictPlot[len(train_predict)+(look_back*2)+1:len(df_cls)-1, :] = test_predict\n",
    "# plot baseline and predictions\n",
    "plt.plot(scaler.inverse_transform(df_cls))\n",
    "plt.plot(trainPredictPlot)\n",
    "plt.plot(testPredictPlot)\n",
    "plt.show()"
   ]
  },
  {
   "cell_type": "markdown",
   "id": "ef7ae82f",
   "metadata": {},
   "source": [
    "# Preparing Data For Future Predictions"
   ]
  },
  {
   "cell_type": "code",
   "execution_count": 59,
   "id": "53ed4266",
   "metadata": {},
   "outputs": [
    {
     "data": {
      "text/plain": [
       "438"
      ]
     },
     "execution_count": 59,
     "metadata": {},
     "output_type": "execute_result"
    }
   ],
   "source": [
    "len(test_data)"
   ]
  },
  {
   "cell_type": "code",
   "execution_count": 60,
   "id": "23f744e7",
   "metadata": {},
   "outputs": [
    {
     "data": {
      "text/plain": [
       "(1, 100)"
      ]
     },
     "execution_count": 60,
     "metadata": {},
     "output_type": "execute_result"
    }
   ],
   "source": [
    "x_input=test_data[338:].reshape(1,-1)\n",
    "x_input.shape"
   ]
  },
  {
   "cell_type": "code",
   "execution_count": 61,
   "id": "85a8b6e4",
   "metadata": {},
   "outputs": [],
   "source": [
    "temp_input=list(x_input)\n",
    "temp_input=temp_input[0].tolist()"
   ]
  },
  {
   "cell_type": "code",
   "execution_count": 63,
   "id": "7d990575",
   "metadata": {},
   "outputs": [
    {
     "data": {
      "text/plain": [
       "[0.9074593335165421,\n",
       " 0.8981852475192503,\n",
       " 0.8945156251302083,\n",
       " 0.8995863150492814,\n",
       " 0.8941153248873451,\n",
       " 0.8973845402814554,\n",
       " 0.8823058438904846,\n",
       " 0.8879770875899192,\n",
       " 0.8807713162581484,\n",
       " 0.8861089397258403,\n",
       " 0.8767680736373636,\n",
       " 0.8895116218942595,\n",
       " 0.9130637904527875,\n",
       " 0.9175340199995597,\n",
       " 0.9140645510679514,\n",
       " 0.9167334128418295,\n",
       " 0.9123298633061773,\n",
       " 0.9087937143634489,\n",
       " 0.9047237850595394,\n",
       " 0.9109954824592706,\n",
       " 0.907526013527662,\n",
       " 0.9042566980534873,\n",
       " 0.90385639113862,\n",
       " 0.9116626228426917,\n",
       " 0.9114624760572624,\n",
       " 0.9237390373881708,\n",
       " 0.9310781820861901,\n",
       " 0.9332799568540163,\n",
       " 0.9363491188707572,\n",
       " 0.9418868957958827,\n",
       " 0.9442220372579532,\n",
       " 0.948825740251039,\n",
       " 0.9524285758768919,\n",
       " 0.952895662882944,\n",
       " 0.9556312113399467,\n",
       " 0.9609020480444491,\n",
       " 0.9999999999999999,\n",
       " 0.9907259140027082,\n",
       " 0.9893247530646166,\n",
       " 0.9874565985285334,\n",
       " 0.9867894581451125,\n",
       " 0.9845876833772863,\n",
       " 0.9872564450710998,\n",
       " 0.9846543700604108,\n",
       " 0.9873899118454089,\n",
       " 0.9829863689817612,\n",
       " 0.9825860620668939,\n",
       " 0.9786496062092981,\n",
       " 0.9702429141329257,\n",
       " 0.9652389108969769,\n",
       " 0.9478916596469952,\n",
       " 0.9467574322575222,\n",
       " 0.9506938881151178,\n",
       " 0.9424873561681834,\n",
       " 0.9343474975603648,\n",
       " 0.9401521146260482,\n",
       " 0.9286762538609304,\n",
       " 0.9338137305431927,\n",
       " 0.9292767142332313,\n",
       " 0.9305444083970135,\n",
       " 0.9304777283858935,\n",
       " 0.9236055706138616,\n",
       " 0.9278756467032002,\n",
       " 0.9258740253928076,\n",
       " 0.92707503954547,\n",
       " 0.9227381766929422,\n",
       " 0.9188017208353464,\n",
       " 0.9040565445960537,\n",
       " 0.9137310309162733,\n",
       " 0.909327481380621,\n",
       " 0.9031224706640143,\n",
       " 0.917934326914427,\n",
       " 0.9074593335165421,\n",
       " 0.9232719503821186,\n",
       " 0.9349479579326657,\n",
       " 0.9356151983961517,\n",
       " 0.9284094203923766,\n",
       " 0.9194689612988319,\n",
       " 0.9210034889311681,\n",
       " 0.9250734182350774,\n",
       " 0.9296103344649741,\n",
       " 0.9270082527822808,\n",
       " 0.9284094203923766,\n",
       " 0.9182012604630455,\n",
       " 0.9077929537482848,\n",
       " 0.9095276348380547,\n",
       " 0.9065252529124984,\n",
       " 0.9068588731442412,\n",
       " 0.910061408527231,\n",
       " 0.9087937143634489,\n",
       " 0.8931144641921168,\n",
       " 0.8955163857453722,\n",
       " 0.9063250994550646,\n",
       " 0.9189351876096558,\n",
       " 0.9212703290717262,\n",
       " 0.917600706682684,\n",
       " 0.9200694149991288,\n",
       " 0.9226714900098177,\n",
       " 0.9188017208353464,\n",
       " 0.9199359482248194]"
      ]
     },
     "execution_count": 63,
     "metadata": {},
     "output_type": "execute_result"
    }
   ],
   "source": [
    "temp_input"
   ]
  },
  {
   "cell_type": "code",
   "execution_count": 64,
   "id": "95afeec4",
   "metadata": {},
   "outputs": [],
   "source": [
    "from numpy import array\n",
    "\n"
   ]
  },
  {
   "cell_type": "markdown",
   "id": "2baa56c9",
   "metadata": {},
   "source": [
    "# Adj Close Price Predictions for the next 10 Days"
   ]
  },
  {
   "cell_type": "code",
   "execution_count": 66,
   "id": "4fb524a8",
   "metadata": {},
   "outputs": [
    {
     "name": "stdout",
     "output_type": "stream",
     "text": [
      "[0.92535895]\n",
      "101\n",
      "1 day input [0.89818525 0.89451563 0.89958632 0.89411532 0.89738454 0.88230584\n",
      " 0.88797709 0.88077132 0.88610894 0.87676807 0.88951162 0.91306379\n",
      " 0.91753402 0.91406455 0.91673341 0.91232986 0.90879371 0.90472379\n",
      " 0.91099548 0.90752601 0.9042567  0.90385639 0.91166262 0.91146248\n",
      " 0.92373904 0.93107818 0.93327996 0.93634912 0.9418869  0.94422204\n",
      " 0.94882574 0.95242858 0.95289566 0.95563121 0.96090205 1.\n",
      " 0.99072591 0.98932475 0.9874566  0.98678946 0.98458768 0.98725645\n",
      " 0.98465437 0.98738991 0.98298637 0.98258606 0.97864961 0.97024291\n",
      " 0.96523891 0.94789166 0.94675743 0.95069389 0.94248736 0.9343475\n",
      " 0.94015211 0.92867625 0.93381373 0.92927671 0.93054441 0.93047773\n",
      " 0.92360557 0.92787565 0.92587403 0.92707504 0.92273818 0.91880172\n",
      " 0.90405654 0.91373103 0.90932748 0.90312247 0.91793433 0.90745933\n",
      " 0.92327195 0.93494796 0.9356152  0.92840942 0.91946896 0.92100349\n",
      " 0.92507342 0.92961033 0.92700825 0.92840942 0.91820126 0.90779295\n",
      " 0.90952763 0.90652525 0.90685887 0.91006141 0.90879371 0.89311446\n",
      " 0.89551639 0.9063251  0.91893519 0.92127033 0.91760071 0.92006941\n",
      " 0.92267149 0.91880172 0.91993595 0.92535895]\n",
      "1 day output [[0.9273728]]\n",
      "2 day input [0.89451563 0.89958632 0.89411532 0.89738454 0.88230584 0.88797709\n",
      " 0.88077132 0.88610894 0.87676807 0.88951162 0.91306379 0.91753402\n",
      " 0.91406455 0.91673341 0.91232986 0.90879371 0.90472379 0.91099548\n",
      " 0.90752601 0.9042567  0.90385639 0.91166262 0.91146248 0.92373904\n",
      " 0.93107818 0.93327996 0.93634912 0.9418869  0.94422204 0.94882574\n",
      " 0.95242858 0.95289566 0.95563121 0.96090205 1.         0.99072591\n",
      " 0.98932475 0.9874566  0.98678946 0.98458768 0.98725645 0.98465437\n",
      " 0.98738991 0.98298637 0.98258606 0.97864961 0.97024291 0.96523891\n",
      " 0.94789166 0.94675743 0.95069389 0.94248736 0.9343475  0.94015211\n",
      " 0.92867625 0.93381373 0.92927671 0.93054441 0.93047773 0.92360557\n",
      " 0.92787565 0.92587403 0.92707504 0.92273818 0.91880172 0.90405654\n",
      " 0.91373103 0.90932748 0.90312247 0.91793433 0.90745933 0.92327195\n",
      " 0.93494796 0.9356152  0.92840942 0.91946896 0.92100349 0.92507342\n",
      " 0.92961033 0.92700825 0.92840942 0.91820126 0.90779295 0.90952763\n",
      " 0.90652525 0.90685887 0.91006141 0.90879371 0.89311446 0.89551639\n",
      " 0.9063251  0.91893519 0.92127033 0.91760071 0.92006941 0.92267149\n",
      " 0.91880172 0.91993595 0.92535895 0.92737281]\n",
      "2 day output [[0.92935884]]\n",
      "3 day input [0.89958632 0.89411532 0.89738454 0.88230584 0.88797709 0.88077132\n",
      " 0.88610894 0.87676807 0.88951162 0.91306379 0.91753402 0.91406455\n",
      " 0.91673341 0.91232986 0.90879371 0.90472379 0.91099548 0.90752601\n",
      " 0.9042567  0.90385639 0.91166262 0.91146248 0.92373904 0.93107818\n",
      " 0.93327996 0.93634912 0.9418869  0.94422204 0.94882574 0.95242858\n",
      " 0.95289566 0.95563121 0.96090205 1.         0.99072591 0.98932475\n",
      " 0.9874566  0.98678946 0.98458768 0.98725645 0.98465437 0.98738991\n",
      " 0.98298637 0.98258606 0.97864961 0.97024291 0.96523891 0.94789166\n",
      " 0.94675743 0.95069389 0.94248736 0.9343475  0.94015211 0.92867625\n",
      " 0.93381373 0.92927671 0.93054441 0.93047773 0.92360557 0.92787565\n",
      " 0.92587403 0.92707504 0.92273818 0.91880172 0.90405654 0.91373103\n",
      " 0.90932748 0.90312247 0.91793433 0.90745933 0.92327195 0.93494796\n",
      " 0.9356152  0.92840942 0.91946896 0.92100349 0.92507342 0.92961033\n",
      " 0.92700825 0.92840942 0.91820126 0.90779295 0.90952763 0.90652525\n",
      " 0.90685887 0.91006141 0.90879371 0.89311446 0.89551639 0.9063251\n",
      " 0.91893519 0.92127033 0.91760071 0.92006941 0.92267149 0.91880172\n",
      " 0.91993595 0.92535895 0.92737281 0.92935884]\n",
      "3 day output [[0.9313104]]\n",
      "4 day input [0.89411532 0.89738454 0.88230584 0.88797709 0.88077132 0.88610894\n",
      " 0.87676807 0.88951162 0.91306379 0.91753402 0.91406455 0.91673341\n",
      " 0.91232986 0.90879371 0.90472379 0.91099548 0.90752601 0.9042567\n",
      " 0.90385639 0.91166262 0.91146248 0.92373904 0.93107818 0.93327996\n",
      " 0.93634912 0.9418869  0.94422204 0.94882574 0.95242858 0.95289566\n",
      " 0.95563121 0.96090205 1.         0.99072591 0.98932475 0.9874566\n",
      " 0.98678946 0.98458768 0.98725645 0.98465437 0.98738991 0.98298637\n",
      " 0.98258606 0.97864961 0.97024291 0.96523891 0.94789166 0.94675743\n",
      " 0.95069389 0.94248736 0.9343475  0.94015211 0.92867625 0.93381373\n",
      " 0.92927671 0.93054441 0.93047773 0.92360557 0.92787565 0.92587403\n",
      " 0.92707504 0.92273818 0.91880172 0.90405654 0.91373103 0.90932748\n",
      " 0.90312247 0.91793433 0.90745933 0.92327195 0.93494796 0.9356152\n",
      " 0.92840942 0.91946896 0.92100349 0.92507342 0.92961033 0.92700825\n",
      " 0.92840942 0.91820126 0.90779295 0.90952763 0.90652525 0.90685887\n",
      " 0.91006141 0.90879371 0.89311446 0.89551639 0.9063251  0.91893519\n",
      " 0.92127033 0.91760071 0.92006941 0.92267149 0.91880172 0.91993595\n",
      " 0.92535895 0.92737281 0.92935884 0.93131042]\n",
      "4 day output [[0.9331871]]\n",
      "5 day input [0.89738454 0.88230584 0.88797709 0.88077132 0.88610894 0.87676807\n",
      " 0.88951162 0.91306379 0.91753402 0.91406455 0.91673341 0.91232986\n",
      " 0.90879371 0.90472379 0.91099548 0.90752601 0.9042567  0.90385639\n",
      " 0.91166262 0.91146248 0.92373904 0.93107818 0.93327996 0.93634912\n",
      " 0.9418869  0.94422204 0.94882574 0.95242858 0.95289566 0.95563121\n",
      " 0.96090205 1.         0.99072591 0.98932475 0.9874566  0.98678946\n",
      " 0.98458768 0.98725645 0.98465437 0.98738991 0.98298637 0.98258606\n",
      " 0.97864961 0.97024291 0.96523891 0.94789166 0.94675743 0.95069389\n",
      " 0.94248736 0.9343475  0.94015211 0.92867625 0.93381373 0.92927671\n",
      " 0.93054441 0.93047773 0.92360557 0.92787565 0.92587403 0.92707504\n",
      " 0.92273818 0.91880172 0.90405654 0.91373103 0.90932748 0.90312247\n",
      " 0.91793433 0.90745933 0.92327195 0.93494796 0.9356152  0.92840942\n",
      " 0.91946896 0.92100349 0.92507342 0.92961033 0.92700825 0.92840942\n",
      " 0.91820126 0.90779295 0.90952763 0.90652525 0.90685887 0.91006141\n",
      " 0.90879371 0.89311446 0.89551639 0.9063251  0.91893519 0.92127033\n",
      " 0.91760071 0.92006941 0.92267149 0.91880172 0.91993595 0.92535895\n",
      " 0.92737281 0.92935884 0.93131042 0.93318713]\n",
      "5 day output [[0.9350697]]\n",
      "6 day input [0.88230584 0.88797709 0.88077132 0.88610894 0.87676807 0.88951162\n",
      " 0.91306379 0.91753402 0.91406455 0.91673341 0.91232986 0.90879371\n",
      " 0.90472379 0.91099548 0.90752601 0.9042567  0.90385639 0.91166262\n",
      " 0.91146248 0.92373904 0.93107818 0.93327996 0.93634912 0.9418869\n",
      " 0.94422204 0.94882574 0.95242858 0.95289566 0.95563121 0.96090205\n",
      " 1.         0.99072591 0.98932475 0.9874566  0.98678946 0.98458768\n",
      " 0.98725645 0.98465437 0.98738991 0.98298637 0.98258606 0.97864961\n",
      " 0.97024291 0.96523891 0.94789166 0.94675743 0.95069389 0.94248736\n",
      " 0.9343475  0.94015211 0.92867625 0.93381373 0.92927671 0.93054441\n",
      " 0.93047773 0.92360557 0.92787565 0.92587403 0.92707504 0.92273818\n",
      " 0.91880172 0.90405654 0.91373103 0.90932748 0.90312247 0.91793433\n",
      " 0.90745933 0.92327195 0.93494796 0.9356152  0.92840942 0.91946896\n",
      " 0.92100349 0.92507342 0.92961033 0.92700825 0.92840942 0.91820126\n",
      " 0.90779295 0.90952763 0.90652525 0.90685887 0.91006141 0.90879371\n",
      " 0.89311446 0.89551639 0.9063251  0.91893519 0.92127033 0.91760071\n",
      " 0.92006941 0.92267149 0.91880172 0.91993595 0.92535895 0.92737281\n",
      " 0.92935884 0.93131042 0.93318713 0.93506968]\n",
      "6 day output [[0.9369337]]\n",
      "7 day input [0.88797709 0.88077132 0.88610894 0.87676807 0.88951162 0.91306379\n",
      " 0.91753402 0.91406455 0.91673341 0.91232986 0.90879371 0.90472379\n",
      " 0.91099548 0.90752601 0.9042567  0.90385639 0.91166262 0.91146248\n",
      " 0.92373904 0.93107818 0.93327996 0.93634912 0.9418869  0.94422204\n",
      " 0.94882574 0.95242858 0.95289566 0.95563121 0.96090205 1.\n",
      " 0.99072591 0.98932475 0.9874566  0.98678946 0.98458768 0.98725645\n",
      " 0.98465437 0.98738991 0.98298637 0.98258606 0.97864961 0.97024291\n",
      " 0.96523891 0.94789166 0.94675743 0.95069389 0.94248736 0.9343475\n",
      " 0.94015211 0.92867625 0.93381373 0.92927671 0.93054441 0.93047773\n",
      " 0.92360557 0.92787565 0.92587403 0.92707504 0.92273818 0.91880172\n",
      " 0.90405654 0.91373103 0.90932748 0.90312247 0.91793433 0.90745933\n",
      " 0.92327195 0.93494796 0.9356152  0.92840942 0.91946896 0.92100349\n",
      " 0.92507342 0.92961033 0.92700825 0.92840942 0.91820126 0.90779295\n",
      " 0.90952763 0.90652525 0.90685887 0.91006141 0.90879371 0.89311446\n",
      " 0.89551639 0.9063251  0.91893519 0.92127033 0.91760071 0.92006941\n",
      " 0.92267149 0.91880172 0.91993595 0.92535895 0.92737281 0.92935884\n",
      " 0.93131042 0.93318713 0.93506968 0.9369337 ]\n",
      "7 day output [[0.938812]]\n",
      "8 day input [0.88077132 0.88610894 0.87676807 0.88951162 0.91306379 0.91753402\n",
      " 0.91406455 0.91673341 0.91232986 0.90879371 0.90472379 0.91099548\n",
      " 0.90752601 0.9042567  0.90385639 0.91166262 0.91146248 0.92373904\n",
      " 0.93107818 0.93327996 0.93634912 0.9418869  0.94422204 0.94882574\n",
      " 0.95242858 0.95289566 0.95563121 0.96090205 1.         0.99072591\n",
      " 0.98932475 0.9874566  0.98678946 0.98458768 0.98725645 0.98465437\n",
      " 0.98738991 0.98298637 0.98258606 0.97864961 0.97024291 0.96523891\n",
      " 0.94789166 0.94675743 0.95069389 0.94248736 0.9343475  0.94015211\n",
      " 0.92867625 0.93381373 0.92927671 0.93054441 0.93047773 0.92360557\n",
      " 0.92787565 0.92587403 0.92707504 0.92273818 0.91880172 0.90405654\n",
      " 0.91373103 0.90932748 0.90312247 0.91793433 0.90745933 0.92327195\n",
      " 0.93494796 0.9356152  0.92840942 0.91946896 0.92100349 0.92507342\n",
      " 0.92961033 0.92700825 0.92840942 0.91820126 0.90779295 0.90952763\n",
      " 0.90652525 0.90685887 0.91006141 0.90879371 0.89311446 0.89551639\n",
      " 0.9063251  0.91893519 0.92127033 0.91760071 0.92006941 0.92267149\n",
      " 0.91880172 0.91993595 0.92535895 0.92737281 0.92935884 0.93131042\n",
      " 0.93318713 0.93506968 0.9369337  0.93881202]\n",
      "8 day output [[0.9406789]]\n",
      "9 day input [0.88610894 0.87676807 0.88951162 0.91306379 0.91753402 0.91406455\n",
      " 0.91673341 0.91232986 0.90879371 0.90472379 0.91099548 0.90752601\n",
      " 0.9042567  0.90385639 0.91166262 0.91146248 0.92373904 0.93107818\n",
      " 0.93327996 0.93634912 0.9418869  0.94422204 0.94882574 0.95242858\n",
      " 0.95289566 0.95563121 0.96090205 1.         0.99072591 0.98932475\n",
      " 0.9874566  0.98678946 0.98458768 0.98725645 0.98465437 0.98738991\n",
      " 0.98298637 0.98258606 0.97864961 0.97024291 0.96523891 0.94789166\n",
      " 0.94675743 0.95069389 0.94248736 0.9343475  0.94015211 0.92867625\n",
      " 0.93381373 0.92927671 0.93054441 0.93047773 0.92360557 0.92787565\n",
      " 0.92587403 0.92707504 0.92273818 0.91880172 0.90405654 0.91373103\n",
      " 0.90932748 0.90312247 0.91793433 0.90745933 0.92327195 0.93494796\n",
      " 0.9356152  0.92840942 0.91946896 0.92100349 0.92507342 0.92961033\n",
      " 0.92700825 0.92840942 0.91820126 0.90779295 0.90952763 0.90652525\n",
      " 0.90685887 0.91006141 0.90879371 0.89311446 0.89551639 0.9063251\n",
      " 0.91893519 0.92127033 0.91760071 0.92006941 0.92267149 0.91880172\n",
      " 0.91993595 0.92535895 0.92737281 0.92935884 0.93131042 0.93318713\n",
      " 0.93506968 0.9369337  0.93881202 0.94067889]\n",
      "9 day output [[0.9425441]]\n",
      "[[0.9253589510917664], [0.9273728132247925], [0.9293588399887085], [0.9313104152679443], [0.9331871271133423], [0.9350696802139282], [0.936933696269989], [0.9388120174407959], [0.9406788945198059], [0.9425441026687622]]\n"
     ]
    }
   ],
   "source": [
    "\"\"\"\n",
    "lst output is the list which will contain the future price prediction\n",
    "\"\"\"\n",
    "lst_output=[]\n",
    "n_steps=100\n",
    "i=0\n",
    "while(i<10):\n",
    "    \n",
    "    if(len(temp_input)>100):\n",
    "        x_input=np.array(temp_input[1:])\n",
    "        print(\"{} day input {}\".format(i,x_input))\n",
    "        \n",
    "        x_input=x_input.reshape(1,-1)\n",
    "        x_input = x_input.reshape((1, n_steps, 1))\n",
    "        \n",
    "        yhat = model_best.predict(x_input, verbose=0)\n",
    "        print(\"{} day output {}\".format(i,yhat))\n",
    "        \n",
    "        temp_input.extend(yhat[0].tolist())\n",
    "        temp_input=temp_input[1:]\n",
    "\n",
    "        lst_output.extend(yhat.tolist())\n",
    "        i=i+1\n",
    "    else:\n",
    "        x_input = x_input.reshape((1, n_steps,1))\n",
    "        yhat = model_best.predict(x_input, verbose=0)\n",
    "        print(yhat[0])\n",
    "        \n",
    "        temp_input.extend(yhat[0].tolist())\n",
    "        print(len(temp_input))\n",
    "        \n",
    "        lst_output.extend(yhat.tolist())\n",
    "        i=i+1\n",
    "    \n",
    "\n",
    "print(lst_output)"
   ]
  },
  {
   "cell_type": "code",
   "execution_count": 67,
   "id": "3f88254d",
   "metadata": {},
   "outputs": [],
   "source": [
    "day_new=np.arange(1,101)\n",
    "day_pred=np.arange(101,111)"
   ]
  },
  {
   "cell_type": "code",
   "execution_count": 70,
   "id": "85d932c4",
   "metadata": {},
   "outputs": [
    {
     "data": {
      "text/plain": [
       "[<matplotlib.lines.Line2D at 0x18cb895dd90>]"
      ]
     },
     "execution_count": 70,
     "metadata": {},
     "output_type": "execute_result"
    },
    {
     "data": {
      "image/png": "[encoded data removed]",
      "text/plain": [
       "<Figure size 432x288 with 1 Axes>"
      ]
     },
     "metadata": {
      "needs_background": "light"
     },
     "output_type": "display_data"
    }
   ],
   "source": [
    "\"\"\"\n",
    "Graph Showing Future Price Predictions for Berkshire Hathway stock for 10 Days\n",
    "From 31th May 2017- 10th June 2017\n",
    "\n",
    "Actual Closing Price at June 12th was 170.48 Dollars, nearly in line with my prediction that stock was going to go up to 170 Dollars\n",
    "\"\"\"\n",
    "plt.plot(day_new,scaler.inverse_transform(df_cls[4280:]))\n",
    "plt.plot(day_pred,scaler.inverse_transform(lst_output))"
   ]
  },
  {
   "cell_type": "code",
   "execution_count": 72,
   "id": "48b1b2c5",
   "metadata": {},
   "outputs": [
    {
     "data": {
      "text/plain": [
       "[<matplotlib.lines.Line2D at 0x18d8746c6a0>]"
      ]
     },
     "execution_count": 72,
     "metadata": {},
     "output_type": "execute_result"
    },
    {
     "data": {
      "image/png": "[encoded data removed]",
      "text/plain": [
       "<Figure size 432x288 with 1 Axes>"
      ]
     },
     "metadata": {
      "needs_background": "light"
     },
     "output_type": "display_data"
    }
   ],
   "source": [
    "df3=df_cls.tolist()\n",
    "df3.extend(lst_output)\n",
    "plt.plot(df3[3500:])"
   ]
  },
  {
   "cell_type": "code",
   "execution_count": 73,
   "id": "9193512e",
   "metadata": {},
   "outputs": [],
   "source": [
    "df3=scaler.inverse_transform(df3).tolist()"
   ]
  },
  {
   "cell_type": "code",
   "execution_count": 74,
   "id": "2e1b9b16",
   "metadata": {},
   "outputs": [
    {
     "data": {
      "text/plain": [
       "[<matplotlib.lines.Line2D at 0x18dddfa4e80>]"
      ]
     },
     "execution_count": 74,
     "metadata": {},
     "output_type": "execute_result"
    },
    {
     "data": {
      "image/png": "[encoded data removed]",
      "text/plain": [
       "<Figure size 432x288 with 1 Axes>"
      ]
     },
     "metadata": {
      "needs_background": "light"
     },
     "output_type": "display_data"
    }
   ],
   "source": [
    "\n",
    "plt.plot(df3)"
   ]
  },
  {
   "cell_type": "code",
   "execution_count": 75,
   "id": "34eca28e",
   "metadata": {},
   "outputs": [
    {
     "data": {
      "text/plain": [
       "[[0.9253589510917664],\n",
       " [0.9273728132247925],\n",
       " [0.9293588399887085],\n",
       " [0.9313104152679443],\n",
       " [0.9331871271133423],\n",
       " [0.9350696802139282],\n",
       " [0.936933696269989],\n",
       " [0.9388120174407959],\n",
       " [0.9406788945198059],\n",
       " [0.9425441026687622]]"
      ]
     },
     "execution_count": 75,
     "metadata": {},
     "output_type": "execute_result"
    }
   ],
   "source": [
    "lst_output"
   ]
  },
  {
   "cell_type": "code",
   "execution_count": null,
   "id": "c61692e3",
   "metadata": {},
   "outputs": [],
   "source": []
  }
 ],
 "metadata": {
  "kernelspec": {
   "display_name": "Python 3 (ipykernel)",
   "language": "python",
   "name": "python3"
  },
  "language_info": {
   "codemirror_mode": {
    "name": "ipython",
    "version": 3
   },
   "file_extension": ".py",
   "mimetype": "text/x-python",
   "name": "python",
   "nbconvert_exporter": "python",
   "pygments_lexer": "ipython3",
   "version": "3.9.7"
  },
  "vscode": {
   "interpreter": {
    "hash": "d9a3081f51df66e6d554e7133fc516371e3e05d778343394a5a775c5a8123ccb"
   }
  }
 },
 "nbformat": 4,
 "nbformat_minor": 5
}
